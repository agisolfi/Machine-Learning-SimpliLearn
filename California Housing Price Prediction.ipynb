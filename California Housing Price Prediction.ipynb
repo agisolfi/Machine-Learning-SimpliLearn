{
 "cells": [
  {
   "cell_type": "markdown",
   "id": "7e7a4325-9948-4441-bca9-9864272a9db8",
   "metadata": {},
   "source": [
    "# California Housing Price Prediction"
   ]
  },
  {
   "cell_type": "markdown",
   "id": "82e828a7-5cda-47da-8c9f-f53f251ca903",
   "metadata": {},
   "source": [
    "### Description\n",
    "\n",
    "**Background of Problem Statement:**\n",
    "The US Census Bureau has published California Census Data which has 10 types of metrics such as the population, median income, median housing price, and so on for each block group in California. The dataset also serves as an input for project scoping and tries to specify the functional and nonfunctional requirements for it.\n",
    "\n",
    "\n",
    "**Problem Objective :**\n",
    "The project aims at building a model of housing prices to predict median house values in California using the provided dataset. This model should learn from the data and be able to predict the median housing price in any district, given all the other metrics.\n",
    "Districts or block groups are the smallest geographical units for which the US Census Bureau\n",
    "publishes sample data (a block group typically has a population of 600 to 3,000 people). There are 20,640 districts in the project dataset.\n"
   ]
  },
  {
   "cell_type": "code",
   "execution_count": 1,
   "id": "f3c406e7-2fe0-47a2-9431-546ef0761841",
   "metadata": {},
   "outputs": [],
   "source": [
    "#import libraries\n",
    "import pandas as pd\n",
    "import matplotlib.pyplot as plt\n",
    "from sklearn.preprocessing import LabelEncoder\n",
    "from sklearn.linear_model import LinearRegression\n",
    "from sklearn.model_selection import train_test_split\n",
    "from sklearn.metrics import r2_score, mean_squared_error\n",
    "from math import sqrt\n",
    "\n",
    "%matplotlib inline"
   ]
  },
  {
   "cell_type": "markdown",
   "id": "ed640fd0-6a18-4580-b003-292c0793d9f5",
   "metadata": {},
   "source": [
    "**1. Load the data :** \n",
    "Read the “housing.csv” file from the folder into the program. Print first few rows of this data.\n",
    "Extract input (X) and output (Y) data from the dataset."
   ]
  },
  {
   "cell_type": "code",
   "execution_count": 2,
   "id": "b59ef838-3f79-4430-b64a-db0ef48ebf5c",
   "metadata": {},
   "outputs": [
    {
     "data": {
      "text/html": [
       "<div>\n",
       "<style scoped>\n",
       "    .dataframe tbody tr th:only-of-type {\n",
       "        vertical-align: middle;\n",
       "    }\n",
       "\n",
       "    .dataframe tbody tr th {\n",
       "        vertical-align: top;\n",
       "    }\n",
       "\n",
       "    .dataframe thead th {\n",
       "        text-align: right;\n",
       "    }\n",
       "</style>\n",
       "<table border=\"1\" class=\"dataframe\">\n",
       "  <thead>\n",
       "    <tr style=\"text-align: right;\">\n",
       "      <th></th>\n",
       "      <th>latitude</th>\n",
       "      <th>housing_median_age</th>\n",
       "      <th>total_rooms</th>\n",
       "      <th>total_bedrooms</th>\n",
       "      <th>population</th>\n",
       "      <th>households</th>\n",
       "      <th>median_income</th>\n",
       "      <th>ocean_proximity</th>\n",
       "      <th>median_house_value</th>\n",
       "    </tr>\n",
       "    <tr>\n",
       "      <th>longitude</th>\n",
       "      <th></th>\n",
       "      <th></th>\n",
       "      <th></th>\n",
       "      <th></th>\n",
       "      <th></th>\n",
       "      <th></th>\n",
       "      <th></th>\n",
       "      <th></th>\n",
       "      <th></th>\n",
       "    </tr>\n",
       "  </thead>\n",
       "  <tbody>\n",
       "    <tr>\n",
       "      <th>-122.23</th>\n",
       "      <td>37.88</td>\n",
       "      <td>41</td>\n",
       "      <td>880</td>\n",
       "      <td>129.0</td>\n",
       "      <td>322</td>\n",
       "      <td>126</td>\n",
       "      <td>8.3252</td>\n",
       "      <td>NEAR BAY</td>\n",
       "      <td>452600</td>\n",
       "    </tr>\n",
       "    <tr>\n",
       "      <th>-122.22</th>\n",
       "      <td>37.86</td>\n",
       "      <td>21</td>\n",
       "      <td>7099</td>\n",
       "      <td>1106.0</td>\n",
       "      <td>2401</td>\n",
       "      <td>1138</td>\n",
       "      <td>8.3014</td>\n",
       "      <td>NEAR BAY</td>\n",
       "      <td>358500</td>\n",
       "    </tr>\n",
       "    <tr>\n",
       "      <th>-122.24</th>\n",
       "      <td>37.85</td>\n",
       "      <td>52</td>\n",
       "      <td>1467</td>\n",
       "      <td>190.0</td>\n",
       "      <td>496</td>\n",
       "      <td>177</td>\n",
       "      <td>7.2574</td>\n",
       "      <td>NEAR BAY</td>\n",
       "      <td>352100</td>\n",
       "    </tr>\n",
       "    <tr>\n",
       "      <th>-122.25</th>\n",
       "      <td>37.85</td>\n",
       "      <td>52</td>\n",
       "      <td>1274</td>\n",
       "      <td>235.0</td>\n",
       "      <td>558</td>\n",
       "      <td>219</td>\n",
       "      <td>5.6431</td>\n",
       "      <td>NEAR BAY</td>\n",
       "      <td>341300</td>\n",
       "    </tr>\n",
       "    <tr>\n",
       "      <th>-122.25</th>\n",
       "      <td>37.85</td>\n",
       "      <td>52</td>\n",
       "      <td>1627</td>\n",
       "      <td>280.0</td>\n",
       "      <td>565</td>\n",
       "      <td>259</td>\n",
       "      <td>3.8462</td>\n",
       "      <td>NEAR BAY</td>\n",
       "      <td>342200</td>\n",
       "    </tr>\n",
       "  </tbody>\n",
       "</table>\n",
       "</div>"
      ],
      "text/plain": [
       "           latitude  housing_median_age  total_rooms  total_bedrooms  \\\n",
       "longitude                                                              \n",
       "-122.23       37.88                  41          880           129.0   \n",
       "-122.22       37.86                  21         7099          1106.0   \n",
       "-122.24       37.85                  52         1467           190.0   \n",
       "-122.25       37.85                  52         1274           235.0   \n",
       "-122.25       37.85                  52         1627           280.0   \n",
       "\n",
       "           population  households  median_income ocean_proximity  \\\n",
       "longitude                                                          \n",
       "-122.23           322         126         8.3252        NEAR BAY   \n",
       "-122.22          2401        1138         8.3014        NEAR BAY   \n",
       "-122.24           496         177         7.2574        NEAR BAY   \n",
       "-122.25           558         219         5.6431        NEAR BAY   \n",
       "-122.25           565         259         3.8462        NEAR BAY   \n",
       "\n",
       "           median_house_value  \n",
       "longitude                      \n",
       "-122.23                452600  \n",
       "-122.22                358500  \n",
       "-122.24                352100  \n",
       "-122.25                341300  \n",
       "-122.25                342200  "
      ]
     },
     "execution_count": 2,
     "metadata": {},
     "output_type": "execute_result"
    }
   ],
   "source": [
    "#Task 1 - read in the data and print first 5 rows\n",
    "data= pd.read_csv(\"housing.csv\", index_col=0)\n",
    "data.head()\n"
   ]
  },
  {
   "cell_type": "code",
   "execution_count": 3,
   "id": "d74a252e-62a0-428f-bceb-fefd3477dc3b",
   "metadata": {},
   "outputs": [],
   "source": [
    "#Task 1 extract x & y\n",
    "feature_cols=['latitude', 'housing_median_age', 'total_rooms', 'total_bedrooms',\n",
    "       'population', 'households', 'median_income', 'ocean_proximity']\n",
    "x=data[feature_cols]\n",
    "y=data.median_house_value #possible error here"
   ]
  },
  {
   "cell_type": "markdown",
   "id": "d03dbc45-da6e-495e-8057-3a8e664c43d8",
   "metadata": {},
   "source": [
    "**2. Handle missing values :**\n",
    "Fill the missing values with the mean of the respective column."
   ]
  },
  {
   "cell_type": "code",
   "execution_count": 4,
   "id": "4e8e752e-5305-4d1a-b7a5-9209390654d8",
   "metadata": {},
   "outputs": [
    {
     "data": {
      "text/plain": [
       "latitude                0\n",
       "housing_median_age      0\n",
       "total_rooms             0\n",
       "total_bedrooms        207\n",
       "population              0\n",
       "households              0\n",
       "median_income           0\n",
       "ocean_proximity         0\n",
       "median_house_value      0\n",
       "dtype: int64"
      ]
     },
     "execution_count": 4,
     "metadata": {},
     "output_type": "execute_result"
    }
   ],
   "source": [
    "data.isnull().sum()"
   ]
  },
  {
   "cell_type": "markdown",
   "id": "4cfa2d57-626b-47cf-95b2-bb83911a5462",
   "metadata": {},
   "source": [
    "We can see from the sum of all null values in our csv that the \"total_bedrooms\" column has 207 null values. As instructed by the project we will fill these values with the mean of the column."
   ]
  },
  {
   "cell_type": "code",
   "execution_count": 5,
   "id": "95b316af-40ed-4ace-b24f-6718245d7aea",
   "metadata": {},
   "outputs": [],
   "source": [
    "data[\"total_bedrooms\"] = data[\"total_bedrooms\"].fillna(data[\"total_bedrooms\"].mean())"
   ]
  },
  {
   "cell_type": "code",
   "execution_count": 6,
   "id": "280cb644-c51a-4075-841b-97da44942c3d",
   "metadata": {},
   "outputs": [
    {
     "data": {
      "text/plain": [
       "latitude              0\n",
       "housing_median_age    0\n",
       "total_rooms           0\n",
       "total_bedrooms        0\n",
       "population            0\n",
       "households            0\n",
       "median_income         0\n",
       "ocean_proximity       0\n",
       "median_house_value    0\n",
       "dtype: int64"
      ]
     },
     "execution_count": 6,
     "metadata": {},
     "output_type": "execute_result"
    }
   ],
   "source": [
    "data.isnull().sum()"
   ]
  },
  {
   "cell_type": "markdown",
   "id": "3dd36554-dbcd-469f-b268-1b88711a12cc",
   "metadata": {},
   "source": [
    "We have now confirmed that there are no missing values in our dataset and we can continue with our analysis."
   ]
  },
  {
   "cell_type": "markdown",
   "id": "526a7e40-5864-45d8-a699-b562db3c4249",
   "metadata": {},
   "source": [
    "**3. Encode categorical data :**\n",
    "Convert categorical column in the dataset to numerical data."
   ]
  },
  {
   "cell_type": "code",
   "execution_count": 7,
   "id": "c51a299f-8309-4d6c-b663-2771d376ad25",
   "metadata": {},
   "outputs": [],
   "source": [
    "# 3. Encode categorical data\n",
    "le = LabelEncoder()\n",
    "data[\"ocean_proximity\"] = le.fit_transform(data[\"ocean_proximity\"])\n",
    "data.head()\n",
    "x=data[feature_cols]\n",
    "y=data.median_house_value"
   ]
  },
  {
   "cell_type": "markdown",
   "id": "0f824778-8a04-4c58-abbe-a3496c4f14f2",
   "metadata": {},
   "source": [
    "**4. Split the dataset :**\n",
    "Split the data into 80% training dataset and 20% test dataset."
   ]
  },
  {
   "cell_type": "code",
   "execution_count": 8,
   "id": "bc5857a7-44e8-4a06-a305-554907467070",
   "metadata": {},
   "outputs": [
    {
     "name": "stdout",
     "output_type": "stream",
     "text": [
      "(16512, 8)\n",
      "(4128, 8)\n",
      "(16512,)\n",
      "(4128,)\n"
     ]
    },
    {
     "data": {
      "text/html": [
       "<div>\n",
       "<style scoped>\n",
       "    .dataframe tbody tr th:only-of-type {\n",
       "        vertical-align: middle;\n",
       "    }\n",
       "\n",
       "    .dataframe tbody tr th {\n",
       "        vertical-align: top;\n",
       "    }\n",
       "\n",
       "    .dataframe thead th {\n",
       "        text-align: right;\n",
       "    }\n",
       "</style>\n",
       "<table border=\"1\" class=\"dataframe\">\n",
       "  <thead>\n",
       "    <tr style=\"text-align: right;\">\n",
       "      <th></th>\n",
       "      <th>latitude</th>\n",
       "      <th>housing_median_age</th>\n",
       "      <th>total_rooms</th>\n",
       "      <th>total_bedrooms</th>\n",
       "      <th>population</th>\n",
       "      <th>households</th>\n",
       "      <th>median_income</th>\n",
       "      <th>ocean_proximity</th>\n",
       "    </tr>\n",
       "    <tr>\n",
       "      <th>longitude</th>\n",
       "      <th></th>\n",
       "      <th></th>\n",
       "      <th></th>\n",
       "      <th></th>\n",
       "      <th></th>\n",
       "      <th></th>\n",
       "      <th></th>\n",
       "      <th></th>\n",
       "    </tr>\n",
       "  </thead>\n",
       "  <tbody>\n",
       "    <tr>\n",
       "      <th>-122.43</th>\n",
       "      <td>37.71</td>\n",
       "      <td>52</td>\n",
       "      <td>1410</td>\n",
       "      <td>286.0</td>\n",
       "      <td>879</td>\n",
       "      <td>282</td>\n",
       "      <td>3.1908</td>\n",
       "      <td>3</td>\n",
       "    </tr>\n",
       "    <tr>\n",
       "      <th>-122.35</th>\n",
       "      <td>37.95</td>\n",
       "      <td>42</td>\n",
       "      <td>1485</td>\n",
       "      <td>290.0</td>\n",
       "      <td>971</td>\n",
       "      <td>303</td>\n",
       "      <td>3.6094</td>\n",
       "      <td>3</td>\n",
       "    </tr>\n",
       "    <tr>\n",
       "      <th>-121.24</th>\n",
       "      <td>37.90</td>\n",
       "      <td>16</td>\n",
       "      <td>50</td>\n",
       "      <td>10.0</td>\n",
       "      <td>20</td>\n",
       "      <td>6</td>\n",
       "      <td>2.6250</td>\n",
       "      <td>1</td>\n",
       "    </tr>\n",
       "    <tr>\n",
       "      <th>-118.35</th>\n",
       "      <td>34.02</td>\n",
       "      <td>34</td>\n",
       "      <td>5218</td>\n",
       "      <td>1576.0</td>\n",
       "      <td>3538</td>\n",
       "      <td>1371</td>\n",
       "      <td>1.5143</td>\n",
       "      <td>0</td>\n",
       "    </tr>\n",
       "    <tr>\n",
       "      <th>-118.39</th>\n",
       "      <td>33.89</td>\n",
       "      <td>38</td>\n",
       "      <td>1851</td>\n",
       "      <td>332.0</td>\n",
       "      <td>750</td>\n",
       "      <td>314</td>\n",
       "      <td>7.3356</td>\n",
       "      <td>0</td>\n",
       "    </tr>\n",
       "  </tbody>\n",
       "</table>\n",
       "</div>"
      ],
      "text/plain": [
       "           latitude  housing_median_age  total_rooms  total_bedrooms  \\\n",
       "longitude                                                              \n",
       "-122.43       37.71                  52         1410           286.0   \n",
       "-122.35       37.95                  42         1485           290.0   \n",
       "-121.24       37.90                  16           50            10.0   \n",
       "-118.35       34.02                  34         5218          1576.0   \n",
       "-118.39       33.89                  38         1851           332.0   \n",
       "\n",
       "           population  households  median_income  ocean_proximity  \n",
       "longitude                                                          \n",
       "-122.43           879         282         3.1908                3  \n",
       "-122.35           971         303         3.6094                3  \n",
       "-121.24            20           6         2.6250                1  \n",
       "-118.35          3538        1371         1.5143                0  \n",
       "-118.39           750         314         7.3356                0  "
      ]
     },
     "execution_count": 8,
     "metadata": {},
     "output_type": "execute_result"
    }
   ],
   "source": [
    "# 4. Split the dataset :\n",
    "x_train,x_test,y_train,y_test=train_test_split(x,y,test_size=.2,random_state=1)\n",
    "print(x_train.shape)\n",
    "print(x_test.shape)\n",
    "print(y_train.shape)\n",
    "print(y_test.shape)\n",
    "x_train.head()"
   ]
  },
  {
   "cell_type": "markdown",
   "id": "4665f9e8-b31e-4187-a8c4-7913c25ed1dc",
   "metadata": {},
   "source": [
    "**5. Standardize data :**\n",
    "Standardize training and test datasets."
   ]
  },
  {
   "cell_type": "code",
   "execution_count": 9,
   "id": "9e5c8572-675b-4372-a4eb-04e08c0af754",
   "metadata": {},
   "outputs": [],
   "source": [
    "# 5. Standardize data :\n",
    "from sklearn import preprocessing\n",
    "standard_x_train = preprocessing.scale(x_train)\n",
    "standard_x_test = preprocessing.scale(x_test)\n",
    "standard_y_train = preprocessing.scale(y_train)\n",
    "standard_y_test = preprocessing.scale(y_test)\n"
   ]
  },
  {
   "cell_type": "markdown",
   "id": "e309b76b-03b1-4111-ab63-46ea79ec3533",
   "metadata": {},
   "source": [
    "**6. Perform Linear Regression :**\n",
    "Perform Linear Regression on training data.\n",
    "Predict output for test dataset using the fitted model.\n",
    "Print root mean squared error (RMSE) from Linear Regression.\n",
    "[ HINT: Import mean_squared_error from sklearn.metrics ]"
   ]
  },
  {
   "cell_type": "code",
   "execution_count": 10,
   "id": "4a20d97a-2c3c-4972-b7d1-d85a52ebd3f5",
   "metadata": {},
   "outputs": [
    {
     "name": "stdout",
     "output_type": "stream",
     "text": [
      "0.6555816683062126\n"
     ]
    }
   ],
   "source": [
    "#6. Perform Linear Regression :\n",
    "lm = LinearRegression()\n",
    "lm.fit(standard_x_train,standard_y_train)\n",
    "#print(lm.intercept_)\n",
    "#print(lm.coef_)\n",
    "predictions = lm.predict(standard_x_test)\n",
    "print(sqrt(mean_squared_error(standard_y_test,predictions)))"
   ]
  },
  {
   "cell_type": "code",
   "execution_count": 27,
   "id": "a3849ead-3cae-4ca1-a0cf-f41c2ea6c975",
   "metadata": {},
   "outputs": [
    {
     "name": "stdout",
     "output_type": "stream",
     "text": [
      "0.5702126761808431\n"
     ]
    }
   ],
   "source": [
    "print(r2_score(standard_y_test,predictions))"
   ]
  },
  {
   "cell_type": "markdown",
   "id": "131e5d49-6d25-426a-9449-9feb0d3d28bc",
   "metadata": {},
   "source": [
    "The linear regression model isn't a perfect model but does show acceptable values according to our RMSE and the R^2 values."
   ]
  },
  {
   "cell_type": "markdown",
   "id": "785cc203-ffb9-4ff1-bb93-6688599c4bab",
   "metadata": {},
   "source": [
    "**7. Perform Decision Tree Regression :**\n",
    "Perform Decision Tree Regression on training data.\n",
    "Predict output for test dataset using the fitted model.\n",
    "Print root mean squared error from Decision Tree Regression."
   ]
  },
  {
   "cell_type": "code",
   "execution_count": 15,
   "id": "c1739153-b9b2-491f-af2d-5e46ed7578de",
   "metadata": {},
   "outputs": [],
   "source": [
    "# 7. Perform Decision Tree Regression :\n",
    "from sklearn.tree import DecisionTreeClassifier\n",
    "classifier = DecisionTreeClassifier()"
   ]
  },
  {
   "cell_type": "code",
   "execution_count": 18,
   "id": "4a24f51e-c756-4d4e-957d-4c94ca8427ad",
   "metadata": {},
   "outputs": [
    {
     "data": {
      "text/plain": [
       "DecisionTreeClassifier()"
      ]
     },
     "execution_count": 18,
     "metadata": {},
     "output_type": "execute_result"
    }
   ],
   "source": [
    "classifier.fit(x_train,y_train)"
   ]
  },
  {
   "cell_type": "code",
   "execution_count": 19,
   "id": "2cded44d-9490-4900-927a-1b02e3252edb",
   "metadata": {},
   "outputs": [],
   "source": [
    "y_predict = classifier.predict(x_test)"
   ]
  },
  {
   "cell_type": "code",
   "execution_count": 20,
   "id": "fcbcde8e-fb9f-4e36-902f-c92ea146c8f6",
   "metadata": {},
   "outputs": [
    {
     "name": "stdout",
     "output_type": "stream",
     "text": [
      "89123.65358174406\n"
     ]
    }
   ],
   "source": [
    "print(sqrt(mean_squared_error(y_test,y_predict)))"
   ]
  },
  {
   "cell_type": "code",
   "execution_count": 21,
   "id": "e6bb0928-049f-402c-b606-4c2f99fba63d",
   "metadata": {},
   "outputs": [
    {
     "name": "stdout",
     "output_type": "stream",
     "text": [
      "0.023498062015503876\n"
     ]
    }
   ],
   "source": [
    "from sklearn.metrics import accuracy_score\n",
    "acc = accuracy_score(y_predict,y_test)\n",
    "print(acc)"
   ]
  },
  {
   "cell_type": "markdown",
   "id": "9c353fb4-b484-4b5c-8238-76049c3f5722",
   "metadata": {},
   "source": [
    "The Decision Tree model shows extremely poor accuracy."
   ]
  },
  {
   "cell_type": "code",
   "execution_count": 28,
   "id": "ee130369-6b0b-4f46-ab71-0dba91ee66b4",
   "metadata": {},
   "outputs": [],
   "source": [
    "#8. Random Forest Regression\n",
    "from sklearn.ensemble import RandomForestClassifier\n",
    "classifier = RandomForestClassifier()\n",
    "classifier.fit(x_train,y_train)\n",
    "y_predict = classifier.predict(x_test)\n"
   ]
  },
  {
   "cell_type": "code",
   "execution_count": 29,
   "id": "f5c6ec92-cbaf-434a-8e28-8c8cbddf5197",
   "metadata": {},
   "outputs": [
    {
     "name": "stdout",
     "output_type": "stream",
     "text": [
      "79420.23076744254\n",
      "0.03972868217054264\n"
     ]
    }
   ],
   "source": [
    "print(sqrt(mean_squared_error(y_test,y_predict)))\n",
    "acc = accuracy_score(y_predict,y_test)\n",
    "print(acc)"
   ]
  },
  {
   "cell_type": "markdown",
   "id": "904ff7c1-0c0b-4761-9a6d-e02000470f3e",
   "metadata": {},
   "source": [
    "The Random Forest model also shows extremely poor accuracy but performs slightly better than the Decision Tree."
   ]
  },
  {
   "cell_type": "code",
   "execution_count": null,
   "id": "86afc367-70da-43bd-ac28-3789c8bfb869",
   "metadata": {},
   "outputs": [],
   "source": []
  }
 ],
 "metadata": {
  "kernelspec": {
   "display_name": "Python 3 (ipykernel)",
   "language": "python",
   "name": "python3"
  },
  "language_info": {
   "codemirror_mode": {
    "name": "ipython",
    "version": 3
   },
   "file_extension": ".py",
   "mimetype": "text/x-python",
   "name": "python",
   "nbconvert_exporter": "python",
   "pygments_lexer": "ipython3",
   "version": "3.9.13"
  }
 },
 "nbformat": 4,
 "nbformat_minor": 5
}
